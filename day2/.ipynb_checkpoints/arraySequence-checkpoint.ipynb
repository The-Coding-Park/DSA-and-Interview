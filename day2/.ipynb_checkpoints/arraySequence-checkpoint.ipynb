{
 "cells": [
  {
   "cell_type": "markdown",
   "metadata": {},
   "source": [
    "# Dyanmic array"
   ]
  },
  {
   "cell_type": "code",
   "execution_count": 1,
   "metadata": {},
   "outputs": [],
   "source": [
    "import sys"
   ]
  },
  {
   "cell_type": "code",
   "execution_count": 7,
   "metadata": {},
   "outputs": [
    {
     "name": "stdout",
     "output_type": "stream",
     "text": [
      "length:   0;Size in bytes:   72\n",
      "length:   1;Size in bytes:  104\n",
      "length:   2;Size in bytes:  104\n",
      "length:   3;Size in bytes:  104\n",
      "length:   4;Size in bytes:  104\n",
      "length:   5;Size in bytes:  136\n",
      "length:   6;Size in bytes:  136\n",
      "length:   7;Size in bytes:  136\n",
      "length:   8;Size in bytes:  136\n",
      "length:   9;Size in bytes:  200\n"
     ]
    }
   ],
   "source": [
    "n=10\n",
    "data=[]\n",
    "for i in range(n):\n",
    "    a=len(data)\n",
    "    b=sys.getsizeof(data)\n",
    "    print(\"length: {0:3d};Size in bytes: {1:4d}\".format(a,b))\n",
    "    data.append(n)"
   ]
  },
  {
   "cell_type": "markdown",
   "metadata": {},
   "source": [
    "# Exercise"
   ]
  },
  {
   "cell_type": "code",
   "execution_count": 14,
   "metadata": {},
   "outputs": [],
   "source": [
    "import ctypes\n",
    "\n",
    "class DynamicArray(object):\n",
    "    '''\n",
    "    DYNAMIC ARRAY CLASS (Similar to Python List)\n",
    "    '''\n",
    "    \n",
    "    def __init__(self):\n",
    "        self.n = 0 # Count actual elements (Default is 0)\n",
    "        self.capacity = 1 # Default Capacity\n",
    "        self.A = self.make_array(self.capacity)\n",
    "        \n",
    "    def __len__(self):\n",
    "        \"\"\"\n",
    "        Return number of elements sorted in array\n",
    "        \"\"\"\n",
    "        return self.n\n",
    "    \n",
    "    def __getitem__(self,k):\n",
    "        \"\"\"\n",
    "        Return element at index k\n",
    "        \"\"\"\n",
    "        if not 0 <= k <self.n:\n",
    "            return IndexError('K is out of bounds!') # Check it k index is in bounds of array\n",
    "        \n",
    "        return self.A[k] #Retrieve from array at index k\n",
    "        \n",
    "    def append(self, ele):\n",
    "        \"\"\"\n",
    "        Add element to end of the array\n",
    "        \"\"\"\n",
    "        if self.n == self.capacity:\n",
    "            self._resize(2*self.capacity) #Double capacity if not enough room\n",
    "        \n",
    "        self.A[self.n] = ele #Set self.n index to element\n",
    "        self.n += 1\n",
    "        \n",
    "    def _resize(self,new_cap):\n",
    "        \"\"\"\n",
    "        Resize internal array to capacity new_cap\n",
    "        \"\"\"\n",
    "        \n",
    "        B = self.make_array(new_cap) # New bigger array\n",
    "        \n",
    "        for k in range(self.n): # Reference all existing values\n",
    "            B[k] = self.A[k]\n",
    "            \n",
    "        self.A = B # Call A the new bigger array\n",
    "        self.capacity = new_cap # Reset the capacity\n",
    "        \n",
    "    def make_array(self,new_cap):\n",
    "        \"\"\"\n",
    "        Returns a new array with new_cap capacity\n",
    "        \"\"\"\n",
    "        return (new_cap * ctypes.py_object)()"
   ]
  },
  {
   "cell_type": "code",
   "execution_count": 15,
   "metadata": {},
   "outputs": [],
   "source": [
    "arr=DynamicArray()\n"
   ]
  },
  {
   "cell_type": "code",
   "execution_count": 16,
   "metadata": {},
   "outputs": [
    {
     "ename": "AttributeError",
     "evalue": "'DynamicArray' object has no attribute 'n'",
     "output_type": "error",
     "traceback": [
      "\u001b[0;31m---------------------------------------------------------------------------\u001b[0m",
      "\u001b[0;31mAttributeError\u001b[0m                            Traceback (most recent call last)",
      "\u001b[0;32m<ipython-input-16-f51c330b97d4>\u001b[0m in \u001b[0;36m<module>\u001b[0;34m\u001b[0m\n\u001b[0;32m----> 1\u001b[0;31m \u001b[0marr\u001b[0m\u001b[0;34m.\u001b[0m\u001b[0mappend\u001b[0m\u001b[0;34m(\u001b[0m\u001b[0;36m2\u001b[0m\u001b[0;34m)\u001b[0m\u001b[0;34m\u001b[0m\u001b[0;34m\u001b[0m\u001b[0m\n\u001b[0m",
      "\u001b[0;32m<ipython-input-14-fc7e8b4098e6>\u001b[0m in \u001b[0;36mappend\u001b[0;34m(self, ele)\u001b[0m\n\u001b[1;32m     16\u001b[0m \u001b[0;34m\u001b[0m\u001b[0m\n\u001b[1;32m     17\u001b[0m     \u001b[0;32mdef\u001b[0m \u001b[0mappend\u001b[0m\u001b[0;34m(\u001b[0m\u001b[0mself\u001b[0m\u001b[0;34m,\u001b[0m \u001b[0mele\u001b[0m\u001b[0;34m)\u001b[0m\u001b[0;34m:\u001b[0m\u001b[0;34m\u001b[0m\u001b[0;34m\u001b[0m\u001b[0m\n\u001b[0;32m---> 18\u001b[0;31m         \u001b[0;32mif\u001b[0m \u001b[0mself\u001b[0m\u001b[0;34m.\u001b[0m\u001b[0mn\u001b[0m \u001b[0;34m==\u001b[0m \u001b[0mself\u001b[0m\u001b[0;34m.\u001b[0m\u001b[0mcapacity\u001b[0m\u001b[0;34m:\u001b[0m\u001b[0;34m\u001b[0m\u001b[0;34m\u001b[0m\u001b[0m\n\u001b[0m\u001b[1;32m     19\u001b[0m             \u001b[0mself\u001b[0m\u001b[0;34m.\u001b[0m\u001b[0m_resize\u001b[0m\u001b[0;34m(\u001b[0m\u001b[0;36m2\u001b[0m\u001b[0;34m*\u001b[0m\u001b[0mself\u001b[0m\u001b[0;34m.\u001b[0m\u001b[0mcapacity\u001b[0m\u001b[0;34m)\u001b[0m \u001b[0;31m#2x if capacity is not enough\u001b[0m\u001b[0;34m\u001b[0m\u001b[0;34m\u001b[0m\u001b[0m\n\u001b[1;32m     20\u001b[0m         \u001b[0mself\u001b[0m\u001b[0;34m.\u001b[0m\u001b[0mA\u001b[0m\u001b[0;34m[\u001b[0m\u001b[0mself\u001b[0m\u001b[0;34m.\u001b[0m\u001b[0mn\u001b[0m\u001b[0;34m]\u001b[0m\u001b[0;34m=\u001b[0m\u001b[0mele\u001b[0m\u001b[0;34m\u001b[0m\u001b[0;34m\u001b[0m\u001b[0m\n",
      "\u001b[0;31mAttributeError\u001b[0m: 'DynamicArray' object has no attribute 'n'"
     ]
    }
   ],
   "source": [
    "arr.append(2)"
   ]
  },
  {
   "cell_type": "code",
   "execution_count": null,
   "metadata": {},
   "outputs": [],
   "source": []
  }
 ],
 "metadata": {
  "kernelspec": {
   "display_name": "Python 3",
   "language": "python",
   "name": "python3"
  },
  "language_info": {
   "codemirror_mode": {
    "name": "ipython",
    "version": 3
   },
   "file_extension": ".py",
   "mimetype": "text/x-python",
   "name": "python",
   "nbconvert_exporter": "python",
   "pygments_lexer": "ipython3",
   "version": "3.7.4"
  }
 },
 "nbformat": 4,
 "nbformat_minor": 4
}
